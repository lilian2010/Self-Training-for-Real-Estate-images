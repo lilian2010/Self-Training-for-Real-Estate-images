{
 "cells": [
  {
   "cell_type": "code",
   "execution_count": null,
   "metadata": {},
   "outputs": [],
   "source": [
    "#imoport some packages to use \n",
    "import pandas as pd \n",
    "import random\n",
    "#To see our directory \n",
    "import os \n",
    "import shutil\n",
    "os.environ[\"CUDA_VISIBLE_DEVICES\"] = \"2\""
   ]
  },
  {
   "cell_type": "code",
   "execution_count": null,
   "metadata": {},
   "outputs": [],
   "source": [
    "data = pd.read_csv(\"static/labeled_images_20200602.csv\",encoding = \"ISO-8859-1\")\n",
    "Data = pd.DataFrame(data)\n"
   ]
  },
  {
   "cell_type": "code",
   "execution_count": null,
   "metadata": {},
   "outputs": [],
   "source": [
    "data.head()\n"
   ]
  },
  {
   "cell_type": "code",
   "execution_count": null,
   "metadata": {},
   "outputs": [],
   "source": [
    "path = Data[\"path\"]"
   ]
  },
  {
   "cell_type": "code",
   "execution_count": null,
   "metadata": {},
   "outputs": [],
   "source": [
    "path.head()"
   ]
  },
  {
   "cell_type": "code",
   "execution_count": null,
   "metadata": {},
   "outputs": [],
   "source": [
    "label = Data[\"labels\"]"
   ]
  },
  {
   "cell_type": "code",
   "execution_count": null,
   "metadata": {},
   "outputs": [],
   "source": [
    "label.head(20)"
   ]
  },
  {
   "cell_type": "markdown",
   "metadata": {},
   "source": [
    "Change the data to dictionary "
   ]
  },
  {
   "cell_type": "code",
   "execution_count": null,
   "metadata": {},
   "outputs": [],
   "source": [
    "dict_label=[]\n",
    "for i in range(len(label)):\n",
    "    dict_label.append(eval(label[i]))\n"
   ]
  },
  {
   "cell_type": "code",
   "execution_count": null,
   "metadata": {},
   "outputs": [],
   "source": [
    "dict_label[30]"
   ]
  },
  {
   "cell_type": "code",
   "execution_count": null,
   "metadata": {},
   "outputs": [],
   "source": [
    "dict_label[10]['image_type']"
   ]
  },
  {
   "cell_type": "markdown",
   "metadata": {},
   "source": [
    "#Read the images with different labels"
   ]
  },
  {
   "cell_type": "code",
   "execution_count": null,
   "metadata": {},
   "outputs": [],
   "source": [
    "i1=0\n",
    "for i in range(len(dict_label)):\n",
    "    directory = path[i]\n",
    "    if 'condition' in dict_label[i]:\n",
    "        if ('image_type' in dict_label[i])and((str(dict_label[i]['condition'])=='0') or (str(dict_label[i]['condition'])=='1')):\n",
    "            if(str(dict_label[i]['image_type']))!='5' and (str(dict_label[i]['image_type']))!='6' and (str(dict_label[i]['image_type']))!='7' :\n",
    "                shutil.copyfile(\"./\"+directory,\"./data_condition_01/\"+str(i1)+\".condition\"+str(dict_label[i]['condition'])+\".jpg\")\n",
    "                i1=i1+1"
   ]
  },
  {
   "cell_type": "markdown",
   "metadata": {},
   "source": [
    "# Offline data augmentation"
   ]
  },
  {
   "cell_type": "code",
   "execution_count": null,
   "metadata": {},
   "outputs": [],
   "source": [
    "new_dir = 'data_condition_01'\n",
    "new_imgs = ['data_condition_01/{}'.format(i) for i in os.listdir(new_dir)]\n",
    "\n",
    "random.shuffle(new_imgs)\n",
    "\n",
    "length_new = len(new_imgs)\n",
    "\n"
   ]
  },
  {
   "cell_type": "code",
   "execution_count": null,
   "metadata": {},
   "outputs": [],
   "source": [
    "get_ipython().magic('matplotlib inline')\n",
    "import matplotlib.pyplot as plt\n",
    "from tensorflow.keras.preprocessing import image\n",
    "from tensorflow.keras.applications.vgg16 import preprocess_input\n",
    "import numpy as np\n"
   ]
  },
  {
   "cell_type": "code",
   "execution_count": null,
   "metadata": {},
   "outputs": [],
   "source": [
    "from scipy.misc import imresize\n",
    "\n",
    "new_img=[]\n",
    "for i in range(length_new):\n",
    "\n",
    "    temp_img=image.load_img(new_imgs[i],target_size=(224,224))\n",
    "    \n",
    "    temp_img=image.img_to_array(temp_img)\n",
    "\n",
    "    new_img.append(temp_img)\n",
    "    \n",
    "new_img=np.array(new_img) \n",
    "new_img=preprocess_input(new_img)"
   ]
  },
  {
   "cell_type": "code",
   "execution_count": null,
   "metadata": {},
   "outputs": [],
   "source": [
    "from tensorflow.keras.preprocessing.image import ImageDataGenerator, array_to_img, img_to_array, load_img\n",
    "\n",
    "\n",
    "datagen = ImageDataGenerator(\n",
    "    rotation_range=0.2,\n",
    "     width_shift_range=0.2,\n",
    "       height_shift_range=0.2,\n",
    "   shear_range=0.2,\n",
    "    zoom_range=0.2,\n",
    "    horizontal_flip=True,\n",
    "    fill_mode='nearest')\n",
    "\n",
    "i = 0\n",
    "for batch in datagen.flow(new_img, batch_size=6, save_to_dir='data_01/', save_prefix='condition0', save_format='jpg'):\n",
    "    i += 1\n",
    "    if i > length_new:\n",
    "        break  # otherwise the generator would loop indefinitely"
   ]
  },
  {
   "cell_type": "code",
   "execution_count": null,
   "metadata": {},
   "outputs": [],
   "source": []
  },
  {
   "cell_type": "markdown",
   "metadata": {},
   "source": [
    "# Test and train split"
   ]
  },
  {
   "cell_type": "code",
   "execution_count": null,
   "metadata": {},
   "outputs": [],
   "source": [
    "#!/usr/bin/env python \n",
    "# -*- coding:utf-8 -*-\n",
    "import os\n",
    "import random\n",
    "import shutil\n",
    "from shutil import copy2\n",
    "trainfiles = os.listdir('/media/D2/lilian/condition0_augnew')#\n",
    "num_train = len(trainfiles)\n",
    "print( \"num_train: \" + str(num_train) )\n",
    "index_list = list(range(num_train))\n",
    "print(index_list)\n",
    "random.shuffle(index_list)\n",
    "num = 0\n",
    "trainDir = '/media/D2/lilian/condition0_augnew_train'#\n",
    "validDir = '/media/D2/lilian/condition0_augnew_test'#\n",
    "for i in index_list:\n",
    "    fileName = os.path.join('/media/D2/lilian/condition0_augnew', trainfiles[i])\n",
    "    if num < num_train*0.80:\n",
    "        print(str(fileName))\n",
    "        copy2(fileName, trainDir)\n",
    "    else:\n",
    "        copy2(fileName, validDir)\n",
    "    num += 1"
   ]
  },
  {
   "cell_type": "markdown",
   "metadata": {},
   "source": [
    "# Randaugment\n"
   ]
  },
  {
   "cell_type": "code",
   "execution_count": null,
   "metadata": {},
   "outputs": [],
   "source": [
    "import matplotlib.image as mpimg\n",
    "import randaugment\n",
    "import tensorflow as tf\n",
    "num_layers =2\n",
    "magnitude=10\n",
    "unlabel_imgs_rand=[]\n",
    "for i in range(1):\n",
    "    img = mpimg.imread(unlabel_imgs[i])\n",
    "    size = (224,224)\n",
    "    img = tf.keras.preprocessing.image.smart_resize(\n",
    "    img, size, interpolation='bilinear')\n",
    "    img = img.astype(np.uint8)\n",
    "    print(img)\n",
    "   # print(img)\n",
    "    imgplot = plt.imshow(img)\n",
    "    plt.show()\n",
    "    \n",
    "    img=randaugment.distort_image_with_randaugment(img, num_layers, magnitude)\n",
    "    imgplot = plt.imshow(img)\n",
    "    plt.show()\n",
    "    \n",
    "    new_img_out=np.array(img)\n"
   ]
  },
  {
   "cell_type": "code",
   "execution_count": null,
   "metadata": {},
   "outputs": [],
   "source": [
    "num_layers =2\n",
    "magnitude=10\n",
    "unlabel_imgs_rand=[]\n",
    "for i in range(len(unlabel_imgs)):\n",
    "    img = mpimg.imread(unlabel_imgs[i])\n",
    "    size = (224,224)\n",
    "    img = tf.keras.preprocessing.image.smart_resize(\n",
    "    img, size, interpolation='bilinear')\n",
    "    img = img.astype(np.uint8)\n",
    "    img=randaugment.distort_image_with_randaugment(img, num_layers, magnitude)\n",
    "    img=image.img_to_array(img)\n",
    "    unlabel_imgs_rand.append(img)\n",
    "unlabel_imgs_rand=np.array(unlabel_imgs_rand) \n",
    "#train_img=preprocess_input(train_img)\n",
    "unlabel_img=preprocess_input(unlabel_imgs_rand)\n",
    "\n"
   ]
  }
 ],
 "metadata": {
  "kernelspec": {
   "display_name": "Python 3",
   "language": "python",
   "name": "python3"
  },
  "language_info": {
   "codemirror_mode": {
    "name": "ipython",
    "version": 3
   },
   "file_extension": ".py",
   "mimetype": "text/x-python",
   "name": "python",
   "nbconvert_exporter": "python",
   "pygments_lexer": "ipython3",
   "version": "3.6.8"
  }
 },
 "nbformat": 4,
 "nbformat_minor": 2
}
